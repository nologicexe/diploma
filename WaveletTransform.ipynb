{
 "cells": [
  {
   "cell_type": "markdown",
   "metadata": {},
   "source": [
    "[Emo-DB dataset](https://www.kaggle.com/piyushagni5/berlin-database-of-emotional-speech-emodb)\n",
    "\n",
    "It's foulder named `wav` should be in the same directory as this notebook"
   ]
  },
  {
   "cell_type": "markdown",
   "metadata": {},
   "source": [
    "anger | boredom | disgust | anxiety/fear | happiness | sadness | neutral\n",
    "--- | --- | --- | --- | --- | --- | ---\n",
    "W | L | E | A | F | T | N "
   ]
  },
  {
   "cell_type": "markdown",
   "metadata": {},
   "source": [
    "# Loading data"
   ]
  },
  {
   "cell_type": "code",
   "execution_count": 129,
   "metadata": {},
   "outputs": [],
   "source": [
    "import os\n",
    "import numpy as np\n",
    "        \n",
    "def _load_emo_db(file_path):\n",
    "    e2c = {'W': 0, 'L': 1, 'E': 2, 'A': 3, 'F': 4, 'T': 5, 'N': 6} #emotion code to class number\n",
    "    code = lambda file_name: e2c[file_name.split('.')[0][-2:-1]] #get emotion code\n",
    "    raw_data, labels = [], []\n",
    "    for file_name in os.listdir(file_path):\n",
    "        samplerate, data = wavfile.read(file_path+file_name)\n",
    "        raw_data.append(data)\n",
    "        labels.append(code(file_name))\n",
    "    return raw_data, labels\n",
    "\n",
    "class Dataset():\n",
    "    '''class for dataset manipulation'''\n",
    "    def __init__(self):\n",
    "        self.raw_data = None\n",
    "        self.data = None\n",
    "        self.labels = None\n",
    "        \n",
    "    def load_data(self, file_path, load_function=_load_emo_db):\n",
    "        self.raw_data, self.labels = load_function(file_path)\n",
    "        return self.raw_data, self.labels\n",
    "    \n",
    "    def transform_data(self, sample_transform_function, *args, raw_data=False):\n",
    "        if raw_data:\n",
    "            data = self.raw_data\n",
    "        else:\n",
    "            data = self.data\n",
    "        new_data = []\n",
    "        for i, sample in enumerate(data):\n",
    "            new_data.append(sample_transform_function(sample, *args))\n",
    "            print(f\"{i+1}/{len(data)}\", end='\\r')\n",
    "        self.data = new_data\n",
    "        print(\"Done!           \")\n",
    "        return self.data\n",
    "    \n",
    "    def get_raw_data(self):\n",
    "        return self.raw_data\n",
    "    \n",
    "    def get_data(self):\n",
    "        return self.data\n",
    "    \n",
    "    def get_dataset(self):\n",
    "        return self.data, self.labels"
   ]
  },
  {
   "cell_type": "code",
   "execution_count": 130,
   "metadata": {},
   "outputs": [],
   "source": [
    "dataset = Dataset()\n",
    "dataset.load_data('wav/');"
   ]
  },
  {
   "cell_type": "markdown",
   "metadata": {},
   "source": [
    "# Preprocessing"
   ]
  },
  {
   "cell_type": "markdown",
   "metadata": {},
   "source": [
    "### Wavelet transform"
   ]
  },
  {
   "cell_type": "code",
   "execution_count": 131,
   "metadata": {},
   "outputs": [],
   "source": [
    "from scipy.io import wavfile\n",
    "import pywt\n",
    "\n",
    "def wavelet_transform(sample, lvl, wavelets):\n",
    "    features = []\n",
    "    for wvlt in wavelets:\n",
    "        coeffs = pywt.wavedec(data, wvlt, level=lvl)\n",
    "        features.append(coeffs)\n",
    "    return features"
   ]
  },
  {
   "cell_type": "code",
   "execution_count": 132,
   "metadata": {},
   "outputs": [
    {
     "name": "stdout",
     "output_type": "stream",
     "text": [
      "Done!           \n"
     ]
    }
   ],
   "source": [
    "dataset.transform_data(wavelet_transform, 10, ['db1', 'db6', 'db8', 'db10'], raw_data=True);"
   ]
  },
  {
   "cell_type": "markdown",
   "metadata": {},
   "source": [
    "# Feature extraction"
   ]
  },
  {
   "cell_type": "markdown",
   "metadata": {},
   "source": [
    "### Statistical feature extraction"
   ]
  },
  {
   "cell_type": "code",
   "execution_count": 141,
   "metadata": {},
   "outputs": [
    {
     "data": {
      "text/plain": [
       "23040"
      ]
     },
     "execution_count": 141,
     "metadata": {},
     "output_type": "execute_result"
    }
   ],
   "source": [
    "len(np.concatenate(dataset.get_data()[0][0]))"
   ]
  },
  {
   "cell_type": "code",
   "execution_count": 182,
   "metadata": {},
   "outputs": [],
   "source": [
    "import numpy as np\n",
    "import scipy.stats\n",
    "\n",
    "def zcr(data):\n",
    "    count = 0\n",
    "    positive_null = None\n",
    "    for i in range(1, len(data)):\n",
    "        if data[i-1]*data[i] < 0:\n",
    "            count += 1\n",
    "        elif data[i] == 0:\n",
    "            if data[i-1] > 0:\n",
    "                positive_null = True\n",
    "            if data[i-1] < 0:\n",
    "                positive_null = False\n",
    "        elif data[i-1] == 0:\n",
    "            if (data[i] > 0 and positive_null == False) or (data[i] < 0 and positive_null == True):\n",
    "                count += 1\n",
    "    return count\n",
    "\n",
    "def wavelet_stat_features(wavelet_data):\n",
    "    features = []\n",
    "    features.append(max(wavelet_data))\n",
    "    features.append(np.mean(wavelet_data))\n",
    "    features.append(np.median(wavelet_data))\n",
    "    features.append(scipy.stats.iqr(wavelet_data))\n",
    "    features.append(np.std(wavelet_data))\n",
    "    features.append(zcr(wavelet_data))\n",
    "    features.append(scipy.stats.kurtosis(wavelet_data))\n",
    "    features.append(scipy.stats.skew(wavelet_data))\n",
    "    return features\n",
    "\n",
    "def sample_stat_features(sample):\n",
    "    stat_features = []\n",
    "    for wavelet_data in sample:\n",
    "        stat_features.append(wavelet_stat_features(np.concatenate(wavelet_data)))\n",
    "    return np.concatenate(stat_features)"
   ]
  },
  {
   "cell_type": "code",
   "execution_count": 183,
   "metadata": {},
   "outputs": [
    {
     "name": "stdout",
     "output_type": "stream",
     "text": [
      "Done!           \n",
      "Done!           \n"
     ]
    }
   ],
   "source": [
    "dataset.transform_data(wavelet_transform, 10, ['db1', 'db6', 'db8', 'db10'], raw_data=True);\n",
    "dataset.transform_data(sample_stat_features);"
   ]
  },
  {
   "cell_type": "code",
   "execution_count": 189,
   "metadata": {},
   "outputs": [],
   "source": [
    "stat_data, data_y = dataset.get_dataset()\n",
    "stat_data = np.array(stat_data)\n",
    "data_y = np.array(data_y)"
   ]
  },
  {
   "cell_type": "markdown",
   "metadata": {},
   "source": [
    "# Model"
   ]
  },
  {
   "cell_type": "markdown",
   "metadata": {},
   "source": [
    "### Simple Neural Network"
   ]
  },
  {
   "cell_type": "code",
   "execution_count": 190,
   "metadata": {},
   "outputs": [],
   "source": [
    "from sklearn.model_selection import train_test_split\n",
    "X_train, X_test, y_train, y_test = train_test_split(stat_data, data_y, test_size=0.25, random_state=42)"
   ]
  },
  {
   "cell_type": "code",
   "execution_count": 191,
   "metadata": {},
   "outputs": [
    {
     "data": {
      "text/plain": [
       "(401, 32)"
      ]
     },
     "execution_count": 191,
     "metadata": {},
     "output_type": "execute_result"
    }
   ],
   "source": [
    "X_train.shape"
   ]
  },
  {
   "cell_type": "code",
   "execution_count": 192,
   "metadata": {},
   "outputs": [],
   "source": [
    "from sklearn import preprocessing\n",
    "\n",
    "scaler = preprocessing.StandardScaler().fit(X_train)\n",
    "X_train_scaled = scaler.transform(X_train)\n",
    "X_test_scaled = scaler.transform(X_test)"
   ]
  },
  {
   "cell_type": "code",
   "execution_count": 193,
   "metadata": {},
   "outputs": [
    {
     "name": "stdout",
     "output_type": "stream",
     "text": [
      "(134, 32) (134,)\n"
     ]
    }
   ],
   "source": [
    "print(X_test_scaled.shape, y_test.shape)"
   ]
  },
  {
   "cell_type": "code",
   "execution_count": 194,
   "metadata": {},
   "outputs": [
    {
     "ename": "NameError",
     "evalue": "name 'torch' is not defined",
     "output_type": "error",
     "traceback": [
      "\u001b[0;31m---------------------------------------------------------------------------\u001b[0m",
      "\u001b[0;31mNameError\u001b[0m                                 Traceback (most recent call last)",
      "\u001b[0;32m<ipython-input-194-fe15868c401a>\u001b[0m in \u001b[0;36m<module>\u001b[0;34m\u001b[0m\n\u001b[0;32m----> 1\u001b[0;31m \u001b[0mX_train_tensor\u001b[0m \u001b[0;34m=\u001b[0m \u001b[0mtorch\u001b[0m\u001b[0;34m.\u001b[0m\u001b[0mtensor\u001b[0m\u001b[0;34m(\u001b[0m\u001b[0mX_train_scaled\u001b[0m\u001b[0;34m,\u001b[0m \u001b[0mdtype\u001b[0m\u001b[0;34m=\u001b[0m\u001b[0mtorch\u001b[0m\u001b[0;34m.\u001b[0m\u001b[0mfloat\u001b[0m\u001b[0;34m)\u001b[0m\u001b[0;34m\u001b[0m\u001b[0;34m\u001b[0m\u001b[0m\n\u001b[0m\u001b[1;32m      2\u001b[0m \u001b[0mX_test_tensor\u001b[0m \u001b[0;34m=\u001b[0m \u001b[0mtorch\u001b[0m\u001b[0;34m.\u001b[0m\u001b[0mtensor\u001b[0m\u001b[0;34m(\u001b[0m\u001b[0mX_test_scaled\u001b[0m\u001b[0;34m,\u001b[0m \u001b[0mdtype\u001b[0m\u001b[0;34m=\u001b[0m\u001b[0mtorch\u001b[0m\u001b[0;34m.\u001b[0m\u001b[0mfloat\u001b[0m\u001b[0;34m)\u001b[0m\u001b[0;34m\u001b[0m\u001b[0;34m\u001b[0m\u001b[0m\n",
      "\u001b[0;31mNameError\u001b[0m: name 'torch' is not defined"
     ]
    }
   ],
   "source": [
    "X_train_tensor = torch.tensor(X_train_scaled, dtype=torch.float)\n",
    "X_test_tensor = torch.tensor(X_test_scaled, dtype=torch.float)"
   ]
  },
  {
   "cell_type": "code",
   "execution_count": 33,
   "metadata": {},
   "outputs": [],
   "source": [
    "from torch.utils.data import Dataset\n",
    "\n",
    "class CustomDataset(Dataset):\n",
    "    def __init__(self, X, y):\n",
    "        self.X = X\n",
    "        self.y = y\n",
    "        self.transform = None\n",
    "        self.target_transform = None\n",
    "        \n",
    "    def __len__(self):\n",
    "        return len(self.y)\n",
    "    \n",
    "    def __getitem__(self, idx):\n",
    "        return self.X[idx], self.y[idx]\n",
    "    \n",
    "test_data = CustomDataset(X_test_tensor, y_test)\n",
    "train_data = CustomDataset(X_train_tensor, y_train)"
   ]
  },
  {
   "cell_type": "code",
   "execution_count": 34,
   "metadata": {},
   "outputs": [
    {
     "name": "stdout",
     "output_type": "stream",
     "text": [
      "torch.Size([32, 32]) torch.Size([32])\n",
      "torch.Size([32, 32]) torch.Size([32])\n",
      "torch.Size([32, 32]) torch.Size([32])\n",
      "torch.Size([32, 32]) torch.Size([32])\n",
      "torch.Size([6, 32]) torch.Size([6])\n"
     ]
    }
   ],
   "source": [
    "import torch\n",
    "from torch.utils.data import DataLoader\n",
    "\n",
    "batch_size = 32\n",
    "\n",
    "train_dataloader = DataLoader(train_data, shuffle=True, batch_size=batch_size)\n",
    "test_dataloader = DataLoader(test_data, shuffle=True, batch_size=batch_size)\n",
    "\n",
    "for X, y in test_dataloader:\n",
    "    print(X.shape, y.shape)"
   ]
  },
  {
   "cell_type": "code",
   "execution_count": 35,
   "metadata": {},
   "outputs": [
    {
     "name": "stdout",
     "output_type": "stream",
     "text": [
      "Using cuda device\n"
     ]
    }
   ],
   "source": [
    "device = \"cuda\" if torch.cuda.is_available() else \"cpu\"\n",
    "print(\"Using {} device\".format(device))"
   ]
  },
  {
   "cell_type": "code",
   "execution_count": 36,
   "metadata": {},
   "outputs": [
    {
     "name": "stdout",
     "output_type": "stream",
     "text": [
      "net(\n",
      "  (linear_relu_stack): Sequential(\n",
      "    (0): Linear(in_features=32, out_features=50, bias=True)\n",
      "    (1): ReLU()\n",
      "    (2): Linear(in_features=50, out_features=7, bias=True)\n",
      "    (3): ReLU()\n",
      "  )\n",
      ")\n"
     ]
    }
   ],
   "source": [
    "from torch import nn\n",
    "\n",
    "class net(nn.Module):\n",
    "    def __init__(self):\n",
    "        super(net, self).__init__()\n",
    "        \n",
    "        self.linear_relu_stack = nn.Sequential(\n",
    "            nn.Linear(32, 50),\n",
    "            nn.ReLU(),\n",
    "            nn.Linear(50, 7),\n",
    "            nn.ReLU()\n",
    "        )\n",
    "\n",
    "    def forward(self, x):\n",
    "        logits = self.linear_relu_stack(x)\n",
    "        return logits\n",
    "    \n",
    "model = net().to(device)\n",
    "print(model)"
   ]
  },
  {
   "cell_type": "code",
   "execution_count": 45,
   "metadata": {},
   "outputs": [],
   "source": [
    "loss_fn = nn.CrossEntropyLoss()\n",
    "optimizer = torch.optim.SGD(model.parameters(), lr=1e-2)"
   ]
  },
  {
   "cell_type": "code",
   "execution_count": 46,
   "metadata": {},
   "outputs": [],
   "source": [
    "def train(dataloader, model, loss_fn, optimizer):\n",
    "    size = len(dataloader.dataset)\n",
    "    for batch, (X, y) in enumerate(dataloader):\n",
    "        X, y = X.to(device), y.to(device)\n",
    "        \n",
    "        pred = model(X)\n",
    "        loss = loss_fn(pred, y)\n",
    "        \n",
    "        optimizer.zero_grad()\n",
    "        loss.backward()\n",
    "        optimizer.step()\n",
    "        \n",
    "        if batch%100 == 0:\n",
    "            loss, current = loss.item(), batch * len(X)\n",
    "            print(f\"loss: {loss:>7f} [{current:>5d}/{size:>5d}]\")"
   ]
  },
  {
   "cell_type": "code",
   "execution_count": 47,
   "metadata": {},
   "outputs": [],
   "source": [
    "def test(dataloader, model):\n",
    "    size = len(dataloader.dataset)\n",
    "    model.eval()\n",
    "    test_loss, correct = 0, 0\n",
    "    with torch.no_grad():\n",
    "        for X, y in dataloader:\n",
    "            X, y = X.to(device), y.to(device)\n",
    "            pred = model(X)\n",
    "            test_loss += loss_fn(pred, y).item()\n",
    "            correct += (pred.argmax(1) == y).type(torch.float).sum().item()\n",
    "        test_loss /= size\n",
    "        correct /= size\n",
    "        print(f\"Test Error: \\n Accuracy: {(100*correct):>0.1f}%, Avg loss: {test_loss:>8f} \\n\")"
   ]
  },
  {
   "cell_type": "code",
   "execution_count": 48,
   "metadata": {},
   "outputs": [
    {
     "name": "stdout",
     "output_type": "stream",
     "text": [
      "Epoch 1000\n",
      "----------------------------------\n",
      "loss: 0.353693 [    0/  401]\n",
      "Test Error: \n",
      " Accuracy: 50.7%, Avg loss: 0.055713 \n",
      "\n",
      "Done!\n"
     ]
    }
   ],
   "source": [
    "from IPython.display import clear_output\n",
    "\n",
    "epochs = 1000\n",
    "for t in range(epochs):\n",
    "    clear_output(wait=True)\n",
    "    print(f\"Epoch {t+1}\\n----------------------------------\")\n",
    "    train(train_dataloader, model, loss_fn, optimizer)\n",
    "    test(test_dataloader, model)\n",
    "print(\"Done!\")"
   ]
  },
  {
   "cell_type": "code",
   "execution_count": null,
   "metadata": {},
   "outputs": [],
   "source": []
  },
  {
   "cell_type": "code",
   "execution_count": 218,
   "metadata": {},
   "outputs": [
    {
     "name": "stdout",
     "output_type": "stream",
     "text": [
      "[3.2388894944876147e-17, 0.03302895764500591, 5.559332747769845e-23, 0.006343350301691576, 5.884860190908434e-19, 0.025015418714557505, 1.0619624139425507e-12, 0.3182844689842146, 1.4790386850380901e-21, 0.11922078908454009, 0.023797722320966292, 0.0053266496032277665, 4.764503222685756e-19, 0.09019715621234853, 5.754158769047299e-13, 0.005399368181869494, 9.81421439178209e-20, 0.28615960482381997, 0.3452846618510871, 0.007382196247441006, 4.377872936137043e-19, 0.1001883959106652, 2.1874648307592244e-12, 0.2298124332039485, 1.2065913352429607e-17, 0.45017751323424093, 0.24775117362575277, 0.008137941499067807, 4.377872936137043e-19, 0.10102128228596069, 3.7207945068277605e-12, 0.08981356316829614]\n"
     ]
    }
   ],
   "source": [
    "# for e_1 in range(7):\n",
    "#     for e_2 in range(i, 7):\n",
    "e_1, e_2 = 0, 1\n",
    "feat_1 = np.array([stat_data[i] for i in range(len(stat_data)) if data_y[i] == e_1])\n",
    "feat_2 = np.array([stat_data[i] for i in range(len(stat_data)) if data_y[i] == e_2])\n",
    "p_values = []\n",
    "for st in range(len(stat_data[0])):\n",
    "    sample_1 = feat_1[:,st]\n",
    "    sample_2 = feat_2[:,st]\n",
    "    statistic, pvalue = scipy.stats.mannwhitneyu(sample_1, sample_2)\n",
    "    p_values.append(pvalue)\n",
    "print(p_values)"
   ]
  },
  {
   "cell_type": "code",
   "execution_count": 222,
   "metadata": {},
   "outputs": [
    {
     "name": "stdout",
     "output_type": "stream",
     "text": [
      "[2 8]\n"
     ]
    },
    {
     "name": "stderr",
     "output_type": "stream",
     "text": [
      "/home/phil/.local/lib/python3.8/site-packages/seaborn/distributions.py:2557: FutureWarning: `distplot` is a deprecated function and will be removed in a future version. Please adapt your code to use either `displot` (a figure-level function with similar flexibility) or `histplot` (an axes-level function for histograms).\n",
      "  warnings.warn(msg, FutureWarning)\n",
      "/home/phil/.local/lib/python3.8/site-packages/seaborn/distributions.py:2557: FutureWarning: `distplot` is a deprecated function and will be removed in a future version. Please adapt your code to use either `displot` (a figure-level function with similar flexibility) or `histplot` (an axes-level function for histograms).\n",
      "  warnings.warn(msg, FutureWarning)\n"
     ]
    },
    {
     "data": {
      "text/plain": [
       "<AxesSubplot:ylabel='Density'>"
      ]
     },
     "execution_count": 222,
     "metadata": {},
     "output_type": "execute_result"
    },
    {
     "data": {
      "image/png": "[encoded data removed]",
      "text/plain": [
       "<Figure size 432x288 with 1 Axes>"
      ]
     },
     "metadata": {
      "needs_background": "light"
     },
     "output_type": "display_data"
    }
   ],
   "source": [
    "p_values = np.array(p_values)\n",
    "k = 2\n",
    "idx = np.argpartition(p_values, k)f\"lvls = {lvls}\")\n",
    "print(idx[:k])\n",
    "sns.distplot(feat_1[:,idx[2]])\n",
    "sns.distplot(feat_2[:,idx[2]])"
   ]
  },
  {
   "cell_type": "code",
   "execution_count": 1,
   "metadata": {},
   "outputs": [
    {
     "ename": "NameError",
     "evalue": "name 'scipy' is not defined",
     "output_type": "error",
     "traceback": [
      "\u001b[0;31m---------------------------------------------------------------------------\u001b[0m",
      "\u001b[0;31mNameError\u001b[0m                                 Traceback (most recent call last)",
      "\u001b[0;32m<ipython-input-1-55f8b72714b0>\u001b[0m in \u001b[0;36m<module>\u001b[0;34m\u001b[0m\n\u001b[0;32m----> 1\u001b[0;31m \u001b[0mstatistic\u001b[0m\u001b[0;34m,\u001b[0m \u001b[0mpvalue\u001b[0m \u001b[0;34m=\u001b[0m \u001b[0mscipy\u001b[0m\u001b[0;34m.\u001b[0m\u001b[0mstats\u001b[0m\u001b[0;34m.\u001b[0m\u001b[0mmannwhitneyu\u001b[0m\u001b[0;34m(\u001b[0m\u001b[0mfeat_1\u001b[0m\u001b[0;34m[\u001b[0m\u001b[0;34m:\u001b[0m\u001b[0;34m,\u001b[0m\u001b[0mid\u001b[0m\u001b[0;34m]\u001b[0m\u001b[0;34m,\u001b[0m \u001b[0mfeat_2\u001b[0m\u001b[0;34m[\u001b[0m\u001b[0;34m:\u001b[0m\u001b[0;34m,\u001b[0m\u001b[0mid\u001b[0m\u001b[0;34m]\u001b[0m\u001b[0;34m)\u001b[0m\u001b[0;34m\u001b[0m\u001b[0;34m\u001b[0m\u001b[0m\n\u001b[0m\u001b[1;32m      2\u001b[0m \u001b[0mprint\u001b[0m\u001b[0;34m(\u001b[0m\u001b[0mstatistic\u001b[0m\u001b[0;34m,\u001b[0m \u001b[0mpvalue\u001b[0m\u001b[0;34m)\u001b[0m\u001b[0;34m\u001b[0m\u001b[0;34m\u001b[0m\u001b[0m\n",
      "\u001b[0;31mNameError\u001b[0m: name 'scipy' is not defined"
     ]
    }
   ],
   "source": [
    "statistic, pvalue = scipy.stats.mannwhitneyu(feat_1[:,id], feat_2[:,id])\n",
    "print(statistic, pvalue)"
   ]
  },
  {
   "cell_type": "code",
   "execution_count": null,
   "metadata": {},
   "outputs": [],
   "source": []
  }
 ],
 "metadata": {
  "kernelspec": {
   "display_name": "Python 3",
   "language": "python",
   "name": "python3"
  },
  "language_info": {
   "codemirror_mode": {
    "name": "ipython",
    "version": 3
   },
   "file_extension": ".py",
   "mimetype": "text/x-python",
   "name": "python",
   "nbconvert_exporter": "python",
   "pygments_lexer": "ipython3",
   "version": "3.6.9"
  }
 },
 "nbformat": 4,
 "nbformat_minor": 5
}
